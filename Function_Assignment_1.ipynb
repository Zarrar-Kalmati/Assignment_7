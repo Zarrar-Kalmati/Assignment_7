{
 "cells": [
  {
   "cell_type": "markdown",
   "id": "02904fa9-d580-48a1-8741-55d24708f1fa",
   "metadata": {},
   "source": [
    "## 1. Write a Python function to find the maximum of three numbers."
   ]
  },
  {
   "cell_type": "code",
   "execution_count": 4,
   "id": "d9cf86b8-e363-4f6c-a537-3ffe01baa623",
   "metadata": {},
   "outputs": [
    {
     "name": "stdout",
     "output_type": "stream",
     "text": [
      "323\n"
     ]
    }
   ],
   "source": [
    "def find_max(lst):\n",
    "    print(max(lst))\n",
    "find_max([1,2,323])"
   ]
  },
  {
   "cell_type": "markdown",
   "id": "3b03cad0-6bf9-442e-a697-a3799132fbce",
   "metadata": {},
   "source": [
    "## 2. Write a Python function to sum all the numbers in a list. \n",
    "    -Sample List : (8, 2, 3, 0, 7) \n",
    "    -Expected Output : 20"
   ]
  },
  {
   "cell_type": "code",
   "execution_count": 7,
   "id": "290f6008-ed20-48a3-8731-fd61bcc19ef0",
   "metadata": {},
   "outputs": [
    {
     "name": "stdout",
     "output_type": "stream",
     "text": [
      "17\n"
     ]
    }
   ],
   "source": [
    "def sum_num(lst):\n",
    "    print(sum(lst))\n",
    "9sum_num([1,2,3,4,4,3])"
   ]
  },
  {
   "cell_type": "markdown",
   "id": "286ba89c-16a0-4678-880c-bb5485641d21",
   "metadata": {},
   "source": [
    "## 3. Write a Python function to multiply all the numbers in a list. \n",
    "    -Sample List : (8, 2, 3, -1, 7) \n",
    "    -Expected Output : -336"
   ]
  },
  {
   "cell_type": "code",
   "execution_count": 18,
   "id": "2607850d-7a81-46f2-af3d-afef9642455b",
   "metadata": {},
   "outputs": [
    {
     "data": {
      "text/plain": [
       "48"
      ]
     },
     "execution_count": 18,
     "metadata": {},
     "output_type": "execute_result"
    }
   ],
   "source": [
    "def multi(lst):\n",
    "    b=1\n",
    "    for a in lst:         \n",
    "        b*=a\n",
    "    return b\n",
    "multi([8,2,3])\n",
    "        "
   ]
  },
  {
   "cell_type": "markdown",
   "id": "6387ce7c-375c-4172-93c4-a26565afe4f4",
   "metadata": {},
   "source": [
    "## 4. Write a Python program to reverse a string. \n",
    "    -Sample String : \"1234abcd\" \n",
    "    -Expected Output : \"dcba4321\""
   ]
  },
  {
   "cell_type": "code",
   "execution_count": 23,
   "id": "57982965-efc8-4f58-a8b0-e71c008936c8",
   "metadata": {},
   "outputs": [
    {
     "data": {
      "text/plain": [
       "'hfojsabhjbewa321'"
      ]
     },
     "execution_count": 23,
     "metadata": {},
     "output_type": "execute_result"
    }
   ],
   "source": [
    "def rever(input_string):\n",
    "    return input_string[::-1]\n",
    "rever('123awebjhbasjofh')\n",
    "    "
   ]
  },
  {
   "cell_type": "markdown",
   "id": "cbc2ef9c-7b96-429d-be51-6f97d847afd0",
   "metadata": {},
   "source": [
    "## 5. Write a Python function to calculate the factorial of a number (a non-negative integer). The function accepts the number as an argument."
   ]
  },
  {
   "cell_type": "code",
   "execution_count": 7,
   "id": "5825a334-2272-4fe9-b593-b9f0f487c52e",
   "metadata": {},
   "outputs": [
    {
     "data": {
      "text/plain": [
       "120"
      ]
     },
     "execution_count": 7,
     "metadata": {},
     "output_type": "execute_result"
    }
   ],
   "source": [
    "def factorial(input_string):\n",
    "    result = 1\n",
    "    for a in range(1,input_string + 1):\n",
    "        result *= a\n",
    "    return result\n",
    "factorial(5)       "
   ]
  },
  {
   "cell_type": "markdown",
   "id": "75d3dd8d-c7b1-4e50-8d20-cc752dfe1626",
   "metadata": {},
   "source": [
    "## 6. Write a Python function to check whether a number falls within a given range."
   ]
  },
  {
   "cell_type": "code",
   "execution_count": 8,
   "id": "e7df19ae-00df-4bcb-afec-0d2b6fc11e7c",
   "metadata": {},
   "outputs": [
    {
     "data": {
      "text/plain": [
       "False"
      ]
     },
     "execution_count": 8,
     "metadata": {},
     "output_type": "execute_result"
    }
   ],
   "source": [
    "def is_in_range(number, start, end):\n",
    "    return start <= number <= end\n",
    "is_in_range(4,56,2)\n"
   ]
  },
  {
   "cell_type": "markdown",
   "id": "5da88805-07ff-4178-9a7b-6293cf69a690",
   "metadata": {},
   "source": [
    "## 7. Write a Python function that accepts a string and counts the number of upper and lower case letters. \n",
    "    -Sample String : 'The quick Brow Fox' \n",
    "    -Expected Output : \n",
    "    -No. of Upper case characters : 3 \n",
    "    -No. of Lower case Characters : 12"
   ]
  },
  {
   "cell_type": "code",
   "execution_count": 11,
   "id": "b2d7f342-9c48-4a31-9f5f-cd1112e3f306",
   "metadata": {},
   "outputs": [
    {
     "name": "stdout",
     "output_type": "stream",
     "text": [
      "No. of Upper case characters : 3\n",
      "No. of Lower case Characters : 12\n"
     ]
    }
   ],
   "source": [
    "def count_case_letters(s):\n",
    "    upper_count = sum(1 for char in s if char.isupper())\n",
    "    lower_count = sum(1 for char in s if char.islower())\n",
    "    print(\"No. of Upper case characters :\", upper_count)\n",
    "    print(\"No. of Lower case Characters :\", lower_count)\n",
    "\n",
    "sample_string = 'The quick Brow Fox'\n",
    "count_case_letters(sample_string)\n"
   ]
  },
  {
   "cell_type": "markdown",
   "id": "298c01b6-3066-4bce-93c3-77ce9e7a79e8",
   "metadata": {},
   "source": [
    "## 8. Write a Python function that takes a list and returns a new list with distinct elements from the first list. \n",
    "    -Sample List : [1,2,3,3,3,3,4,5] \n",
    "    -Unique List : [1, 2, 3, 4, 5]"
   ]
  },
  {
   "cell_type": "code",
   "execution_count": 12,
   "id": "d639bb3e-5d73-49dc-b858-06408f6fbd61",
   "metadata": {},
   "outputs": [
    {
     "name": "stdout",
     "output_type": "stream",
     "text": [
      "Unique List: [1, 2, 3, 4, 5]\n"
     ]
    }
   ],
   "source": [
    "def get_unique_elements(lst):\n",
    "    return list(set(lst))\n",
    "sample_list = [1, 2, 3, 3, 3, 3, 4, 5]\n",
    "unique_list = get_unique_elements(sample_list)\n",
    "print(\"Unique List:\", unique_list)\n"
   ]
  },
  {
   "cell_type": "markdown",
   "id": "83b6be4c-2c8a-491e-9c55-74409c307c1f",
   "metadata": {},
   "source": [
    "## 9. Write a Python function that takes a number as a parameter and checks whether the number is prime or not. \n",
    "    -Note : A prime number (or a prime) is a natural number greater than 1 and that has no positive divisors other than 1 and itself."
   ]
  },
  {
   "cell_type": "code",
   "execution_count": 4,
   "id": "11e0e7b3-82c1-401e-b3ca-d9be2304248c",
   "metadata": {},
   "outputs": [
    {
     "name": "stdout",
     "output_type": "stream",
     "text": [
      "This number is prime: 3\n"
     ]
    }
   ],
   "source": [
    "def prime(input_string):\n",
    "    b = 1\n",
    "    for a in input_string:\n",
    "        if a % 3 == 0:\n",
    "            b = a\n",
    "    print(f\"This number is prime: {b}\")\n",
    "prime([1,2,4,2,3])"
   ]
  },
  {
   "cell_type": "markdown",
   "id": "033bc648-927d-4566-9dc0-eba18d03c231",
   "metadata": {},
   "source": [
    "## 10. Write a Python program to print the even numbers from a given list. \n",
    "    -Sample List : [1, 2, 3, 4, 5, 6, 7, 8, 9]\n",
    "    -Expected Result : [2, 4, 6, 8]"
   ]
  },
  {
   "cell_type": "code",
   "execution_count": 12,
   "id": "7e1ebfae-5dad-4e68-b7a1-19142872d122",
   "metadata": {},
   "outputs": [
    {
     "data": {
      "text/plain": [
       "[2, 4, 6, 8]"
      ]
     },
     "execution_count": 12,
     "metadata": {},
     "output_type": "execute_result"
    }
   ],
   "source": [
    "def even(lst):\n",
    "    abc=[]\n",
    "    for a in lst:\n",
    "        if a % 2 == 0:\n",
    "            abc.append(a)\n",
    "    return abc\n",
    "even([1, 2, 3, 4, 5, 6, 7, 8])            "
   ]
  },
  {
   "cell_type": "code",
   "execution_count": null,
   "id": "89053b09-f556-4275-8b7d-e2f676ed778c",
   "metadata": {},
   "outputs": [],
   "source": [
    "11. Write a Python function to check whether a number is \"Perfect\" or not. \n",
    "According to Wikipedia : In number theory, a perfect number is a positive integer \n",
    "that is equal to the sum of its proper positive divisors, that is, the sum of its \n",
    "positive divisors excluding the number itself (also known as its aliquot sum). \n",
    "Equivalently, a perfect number is a number that is half the sum of all of its \n",
    "positive divisors (including itself). \n",
    "Example : The first perfect number is 6, because 1, 2, and 3 are its proper positive \n",
    "divisors, and 1 + 2 + 3 = 6. Equivalently, the number 6 is equal to half the sum of \n",
    "all its positive divisors: ( 1 + 2 + 3 + 6 ) / 2 = 6. The next perfect number is 28 = 1 + \n",
    "2 + 4 + 7 + 14. This is followed by the perfect numbers 496 and 8128"
   ]
  },
  {
   "cell_type": "code",
   "execution_count": 15,
   "id": "c6091c64-1087-4b32-b5e0-c9d04be17971",
   "metadata": {},
   "outputs": [
    {
     "data": {
      "text/plain": [
       "True"
      ]
     },
     "execution_count": 15,
     "metadata": {},
     "output_type": "execute_result"
    }
   ],
   "source": [
    "def is_perfect_number(n):\n",
    "    if n < 1:\n",
    "        return False\n",
    "    sum = 0\n",
    "    for i in range(1, n):\n",
    "        if n % i == 0:\n",
    "            sum += i\n",
    "    return sum == n\n",
    "is_perfect_number(6)"
   ]
  },
  {
   "cell_type": "markdown",
   "id": "d6bbc7c6-224a-4f78-b2f4-4e51cfcc8cc4",
   "metadata": {},
   "source": [
    "## 12. Write a Python function that checks whether a passed string is a palindrome or not. \n",
    "    -Note: A palindrome is a word, phrase, or sequence that reads the same backward as forward, e.g., madam or nurses run.````"
   ]
  },
  {
   "cell_type": "code",
   "execution_count": 18,
   "id": "d4eaa1c6-a4a9-46dd-9506-6f8af56596b4",
   "metadata": {},
   "outputs": [
    {
     "data": {
      "text/plain": [
       "True"
      ]
     },
     "execution_count": 18,
     "metadata": {},
     "output_type": "execute_result"
    }
   ],
   "source": [
    "def palin(a):\n",
    "    if a == a[::-1]:  \n",
    "        return True\n",
    "    else:\n",
    "        return False\n",
    "palin('madam')"
   ]
  },
  {
   "cell_type": "code",
   "execution_count": null,
   "id": "6aa73eae-05b8-475c-9f10-c7df85c28535",
   "metadata": {},
   "outputs": [],
   "source": []
  }
 ],
 "metadata": {
  "kernelspec": {
   "display_name": "Python 3 (ipykernel)",
   "language": "python",
   "name": "python3"
  },
  "language_info": {
   "codemirror_mode": {
    "name": "ipython",
    "version": 3
   },
   "file_extension": ".py",
   "mimetype": "text/x-python",
   "name": "python",
   "nbconvert_exporter": "python",
   "pygments_lexer": "ipython3",
   "version": "3.12.7"
  }
 },
 "nbformat": 4,
 "nbformat_minor": 5
}
